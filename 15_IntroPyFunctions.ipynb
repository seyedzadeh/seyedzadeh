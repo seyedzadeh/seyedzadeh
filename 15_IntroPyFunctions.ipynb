{
  "cells": [
    {
      "cell_type": "markdown",
      "metadata": {
        "id": "view-in-github",
        "colab_type": "text"
      },
      "source": [
        "<a href=\"https://colab.research.google.com/github/seyedzadeh/seyedzadeh/blob/main/15_IntroPyFunctions.ipynb\" target=\"_parent\"><img src=\"https://colab.research.google.com/assets/colab-badge.svg\" alt=\"Open In Colab\"/></a>"
      ]
    },
    {
      "cell_type": "markdown",
      "metadata": {
        "id": "DCP8Sd5fUfuI"
      },
      "source": [
        "# Introduction to Python \n",
        "### Notes 1.1, Introduction to Functions\n",
        "---\n",
        "\n",
        "## Objectives\n",
        "\n",
        "---\n",
        "\n",
        "\n",
        "## What sort of code we repeat often?\n",
        "\n",
        "* decision making \n",
        "* business rules\n",
        "* utilities "
      ]
    },
    {
      "cell_type": "markdown",
      "metadata": {
        "id": "uO8pEHP3UfuT"
      },
      "source": [
        "The code written below is specialized, *for* specific data, ie., `journal`"
      ]
    },
    {
      "cell_type": "code",
      "execution_count": 1,
      "metadata": {
        "id": "IWz7ZiGZUfuU",
        "outputId": "a6af661a-1b70-40e8-dab3-3d7961570732",
        "colab": {
          "base_uri": "https://localhost:8080/"
        }
      },
      "outputs": [
        {
          "output_type": "stream",
          "name": "stdout",
          "text": [
            "Keep up the good work!\n"
          ]
        }
      ],
      "source": [
        "journal = \"I am feeling good today!\"\n",
        "\n",
        "if \"good\" in journal:\n",
        "    print(\"Keep up the good work!\")\n",
        "elif \"bad\" in journal:\n",
        "    print(\"Try exercise!\")\n",
        "else:\n",
        "    print(\"no analysis possible\")"
      ]
    },
    {
      "cell_type": "markdown",
      "metadata": {
        "id": "-_xsxY1zUfuX"
      },
      "source": [
        "## How do you define a function?"
      ]
    },
    {
      "cell_type": "markdown",
      "metadata": {
        "id": "LErHe2EmUfuY"
      },
      "source": [
        "We can bundle this code as \"package\" called a \"function\" which allows to reuse it:"
      ]
    },
    {
      "cell_type": "code",
      "execution_count": 2,
      "metadata": {
        "id": "VQP3XfcsUfuZ"
      },
      "outputs": [],
      "source": [
        "# def groups this code under \"recommend\"\n",
        "# where \"journal\" is now an input argument\n",
        "def recommend(journal):\n",
        "    # by indenting we have \"grouped together\"\n",
        "    if \"good\" in journal:\n",
        "        print(\"Keep up the good work!\")\n",
        "    elif \"bad\" in journal:\n",
        "        print(\"Try exercise!\")\n",
        "    else:\n",
        "        print(\"no analysis possible\")"
      ]
    },
    {
      "cell_type": "code",
      "execution_count": 3,
      "metadata": {
        "id": "hpmmb6UeUfua",
        "outputId": "fe32c63c-7351-46c6-c1e7-69ffa607ae41",
        "colab": {
          "base_uri": "https://localhost:8080/"
        }
      },
      "outputs": [
        {
          "output_type": "stream",
          "name": "stdout",
          "text": [
            "Keep up the good work!\n"
          ]
        }
      ],
      "source": [
        "recommend(\"I am feeling good!\")"
      ]
    },
    {
      "cell_type": "code",
      "execution_count": 4,
      "metadata": {
        "id": "gMKNsuUpUfuc",
        "outputId": "4451f683-ba92-4458-ea57-50899fd36686",
        "colab": {
          "base_uri": "https://localhost:8080/"
        }
      },
      "outputs": [
        {
          "output_type": "stream",
          "name": "stdout",
          "text": [
            "Try exercise!\n"
          ]
        }
      ],
      "source": [
        "recommend(\"I have a bad feeling about this!\")"
      ]
    },
    {
      "cell_type": "markdown",
      "metadata": {
        "id": "qM-fS4vDUfud"
      },
      "source": [
        "## What are functions?"
      ]
    },
    {
      "cell_type": "markdown",
      "metadata": {
        "id": "OC7HN3t4Ufue"
      },
      "source": [
        "At their simplest, a function is just a block of code which can executed *by name* rather than having to write-out the whole block. \n",
        "\n",
        "Functions take *arguments* which take a different value everytime they are executed (ie., named).\n",
        "\n",
        "When we call function we provide the value of their arguments, ie., we give them the specific input they need. "
      ]
    },
    {
      "cell_type": "markdown",
      "metadata": {
        "id": "E16OMA2AUfuf"
      },
      "source": [
        "## Why use functions?"
      ]
    },
    {
      "cell_type": "markdown",
      "metadata": {
        "id": "QVh9XnhxUfuf"
      },
      "source": [
        "There are many reasons, three main ones:\n",
        "\n",
        "1. to create reusable utilities\n",
        "2. to provide a \"intutive name\" for an operation\n",
        "    * this expresses the design intention more clearly than many-lines do\n",
        "3. to localize code \"in one place\"\n",
        "    * eg., if there's a mistake in the code, you only change one place\n",
        "    * eg., if you add a feature, the whole programme gets it "
      ]
    },
    {
      "cell_type": "markdown",
      "metadata": {
        "id": "irMxh4o-Ufug"
      },
      "source": [
        "## How do you call a function in python?"
      ]
    },
    {
      "cell_type": "code",
      "execution_count": 5,
      "metadata": {
        "id": "qV1n5pk9Ufuh"
      },
      "outputs": [],
      "source": [
        "def warning(bp, hr):\n",
        "    if (bp > 180) or (hr > 150):\n",
        "        print(\"WARNING!\")\n",
        "    else:\n",
        "        print(\"OK\")"
      ]
    },
    {
      "cell_type": "markdown",
      "metadata": {
        "id": "b1WLna4eUfui"
      },
      "source": [
        "You call a function by using its name (followed by parentheses). You supply arguments *by position*, so that, eg., below, `bp` is `60` and `hr` is `70`"
      ]
    },
    {
      "cell_type": "code",
      "execution_count": 6,
      "metadata": {
        "id": "K5EOspp1Ufuj",
        "outputId": "c70646d1-48f8-4e61-c997-9545217d46d5",
        "colab": {
          "base_uri": "https://localhost:8080/"
        }
      },
      "outputs": [
        {
          "output_type": "stream",
          "name": "stdout",
          "text": [
            "OK\n"
          ]
        }
      ],
      "source": [
        "warning(60, 70)"
      ]
    },
    {
      "cell_type": "code",
      "execution_count": 7,
      "metadata": {
        "id": "81p8C0Q5Ufuj",
        "outputId": "3debb471-e6d0-49fa-c813-9edbf5fc97a3",
        "colab": {
          "base_uri": "https://localhost:8080/"
        }
      },
      "outputs": [
        {
          "output_type": "stream",
          "name": "stdout",
          "text": [
            "WARNING!\n"
          ]
        }
      ],
      "source": [
        "warning(200, 210)"
      ]
    },
    {
      "cell_type": "markdown",
      "metadata": {
        "id": "XGanYZ18Ufuk"
      },
      "source": [
        "Below, we *name* the arguments, and if we name them, we can supply them in any order:"
      ]
    },
    {
      "cell_type": "code",
      "execution_count": 8,
      "metadata": {
        "id": "aj7AH87CUfuk",
        "outputId": "af071319-bdc0-4fa8-e2f1-de1fa0c9e8dc",
        "colab": {
          "base_uri": "https://localhost:8080/"
        }
      },
      "outputs": [
        {
          "output_type": "stream",
          "name": "stdout",
          "text": [
            "WARNING!\n"
          ]
        }
      ],
      "source": [
        "warning(hr=60, bp=200)"
      ]
    },
    {
      "cell_type": "markdown",
      "metadata": {
        "id": "t2UMLb_4Uful"
      },
      "source": [
        "You can supply arguments both by position, and by name, but named ones have to come last:"
      ]
    },
    {
      "cell_type": "code",
      "execution_count": 9,
      "metadata": {
        "id": "F3bD5c63Ufum",
        "outputId": "7075563b-0c1b-4fed-d054-9de4fcff9c84",
        "colab": {
          "base_uri": "https://localhost:8080/"
        }
      },
      "outputs": [
        {
          "output_type": "stream",
          "name": "stdout",
          "text": [
            "WARNING!\n"
          ]
        }
      ],
      "source": [
        "warning(100, hr=200)"
      ]
    },
    {
      "cell_type": "code",
      "execution_count": 11,
      "metadata": {
        "id": "KP_f4j5dUfum",
        "outputId": "67c3c554-e623-475f-d527-774a1ee508a8",
        "colab": {
          "base_uri": "https://localhost:8080/",
          "height": 130
        }
      },
      "outputs": [
        {
          "output_type": "error",
          "ename": "SyntaxError",
          "evalue": "ignored",
          "traceback": [
            "\u001b[0;36m  File \u001b[0;32m\"<ipython-input-11-a48f08a64f51>\"\u001b[0;36m, line \u001b[0;32m1\u001b[0m\n\u001b[0;31m    warning(hr=100, 100)\u001b[0m\n\u001b[0m                   ^\u001b[0m\n\u001b[0;31mSyntaxError\u001b[0m\u001b[0;31m:\u001b[0m positional argument follows keyword argument\n"
          ]
        }
      ],
      "source": [
        "warning(hr=100, 100)"
      ]
    },
    {
      "cell_type": "markdown",
      "metadata": {
        "id": "F6_f47TCUfun"
      },
      "source": [
        "## How does a function represent a calculation?"
      ]
    },
    {
      "cell_type": "markdown",
      "metadata": {
        "id": "waQY_PalUfun"
      },
      "source": [
        "Roughly, there are two kinds of function:\n",
        "* functions which access devices\n",
        "    * `print()` accesses the scree\n",
        "    * `open()` access the disk\n",
        "* functions which calculate results\n",
        "    * `1 + 1` computes `2` \n",
        "    \n",
        "So far, the functions above, are all more like *actions* -- they don't produce any values; they do something. "
      ]
    },
    {
      "cell_type": "code",
      "execution_count": 12,
      "metadata": {
        "id": "lEjGN51rUfuo"
      },
      "outputs": [],
      "source": [
        "def warning(bp, hr):\n",
        "    if (bp > 180) or (hr > 150):\n",
        "        print(\"WARNING!\")\n",
        "    else:\n",
        "        print(\"OK\")"
      ]
    },
    {
      "cell_type": "markdown",
      "metadata": {
        "id": "P93WXUY4Ufup"
      },
      "source": [
        "It may look like `warning()` returns a value, but it just places it on the screen: "
      ]
    },
    {
      "cell_type": "code",
      "execution_count": 14,
      "metadata": {
        "id": "BxAomgIpUfuq",
        "outputId": "61ead5cf-fae6-47cb-b408-d37065aeec8e",
        "colab": {
          "base_uri": "https://localhost:8080/"
        }
      },
      "outputs": [
        {
          "output_type": "stream",
          "name": "stdout",
          "text": [
            "OK\n"
          ]
        }
      ],
      "source": [
        "message = warning(100, 100)"
      ]
    },
    {
      "cell_type": "markdown",
      "metadata": {
        "id": "5jbk-7gfUfur"
      },
      "source": [
        "There's no *data* returned from `warning()`..."
      ]
    },
    {
      "cell_type": "code",
      "execution_count": 15,
      "metadata": {
        "id": "Q_-FVgbUUfur",
        "outputId": "c96d7334-308b-40b5-b536-bd04cdd18c2e",
        "colab": {
          "base_uri": "https://localhost:8080/"
        }
      },
      "outputs": [
        {
          "output_type": "stream",
          "name": "stdout",
          "text": [
            "None\n"
          ]
        }
      ],
      "source": [
        "print(message)"
      ]
    },
    {
      "cell_type": "code",
      "execution_count": 16,
      "metadata": {
        "id": "k0LGaKLbUfus"
      },
      "outputs": [],
      "source": [
        "def warning(bp, hr):\n",
        "    if (bp > 180) or (hr > 150):\n",
        "        return \"WARNING!\"\n",
        "    else:\n",
        "        return \"OK\""
      ]
    },
    {
      "cell_type": "markdown",
      "metadata": {
        "id": "lEfR23ukUfus"
      },
      "source": [
        "This no longer `print()`s, "
      ]
    },
    {
      "cell_type": "code",
      "execution_count": 17,
      "metadata": {
        "id": "lWVh1b0WUfus"
      },
      "outputs": [],
      "source": [
        "msg = warning(100, 100)"
      ]
    },
    {
      "cell_type": "code",
      "execution_count": 18,
      "metadata": {
        "id": "e4GnqLbkUfus",
        "outputId": "5fcf6b21-d2a3-4888-9c96-36addef1edf5",
        "colab": {
          "base_uri": "https://localhost:8080/"
        }
      },
      "outputs": [
        {
          "output_type": "stream",
          "name": "stdout",
          "text": [
            "OK!\n"
          ]
        }
      ],
      "source": [
        "print(msg + \"!\")"
      ]
    },
    {
      "cell_type": "markdown",
      "metadata": {
        "id": "D3g_VKaFUfut"
      },
      "source": [
        "### Additional Example"
      ]
    },
    {
      "cell_type": "code",
      "execution_count": null,
      "metadata": {
        "id": "Pd3pz4mbUfut"
      },
      "outputs": [],
      "source": [
        "def predict_prognosis(hr, bp):\n",
        "    return 0.1*hr + 0.1*bp + 5"
      ]
    },
    {
      "cell_type": "code",
      "execution_count": null,
      "metadata": {
        "id": "OPvh_0UZUfut"
      },
      "outputs": [],
      "source": [
        "result = predict_prognosis(100, 100)"
      ]
    },
    {
      "cell_type": "code",
      "execution_count": null,
      "metadata": {
        "id": "CnRaWUiVUfuu",
        "outputId": "193b6ec0-0f5d-439b-d2eb-d77c213ce0a8"
      },
      "outputs": [
        {
          "name": "stdout",
          "output_type": "stream",
          "text": [
            "You have a life expectancy of 25.0 months\n"
          ]
        }
      ],
      "source": [
        "print(f\"You have a life expectancy of {result} months\")"
      ]
    },
    {
      "cell_type": "code",
      "execution_count": null,
      "metadata": {
        "id": "OpQVCbyEUfuu",
        "outputId": "79dde2cf-529a-4973-ae7c-d31a2432a41e"
      },
      "outputs": [
        {
          "name": "stdout",
          "output_type": "stream",
          "text": [
            "You have a life expectancy of 2 years\n"
          ]
        }
      ],
      "source": [
        "print(f\"You have a life expectancy of {round(result/12)} years\")"
      ]
    },
    {
      "cell_type": "markdown",
      "metadata": {
        "id": "dXYxOB5iUfuv"
      },
      "source": [
        "## Exercise (20 min)"
      ]
    },
    {
      "cell_type": "markdown",
      "metadata": {
        "id": "wX0KocfOUfuv"
      },
      "source": [
        "In this exercise we consider the types of code we have seen before, and now think through rephrasing them using functions. \n",
        "\n",
        "Consider the code below, note that the decision-making code may be better grouped within a function."
      ]
    },
    {
      "cell_type": "code",
      "execution_count": null,
      "metadata": {
        "id": "EW5uuNIDUfuv",
        "outputId": "6b42c173-2863-49eb-f921-5268d3d7ea36"
      },
      "outputs": [
        {
          "name": "stdout",
          "output_type": "stream",
          "text": [
            "OK!\n",
            "WARNING!\n",
            "WARNING!\n"
          ]
        }
      ],
      "source": [
        "# data defintion\n",
        "health_dataset = [\n",
        "    # PatientID, PatientName, PatientHR, PatientBP\n",
        "    (1, \"Michael\", 100, 100),\n",
        "    (2, \"Alice\", 200, 180),\n",
        "    (3, \"Eve\", 150, 100),\n",
        "]\n",
        "\n",
        "# looping:\n",
        "#   (1 , \"Michael\", 100, 100) \n",
        "for pid, pname   ,  phr, pbp in health_dataset:\n",
        "    \n",
        "    # decision-making\n",
        "    if (phr > 100) or (pbp > 100):\n",
        "        print(\"WARNING!\")\n",
        "    else:\n",
        "        print(\"OK!\")"
      ]
    },
    {
      "cell_type": "markdown",
      "metadata": {
        "id": "LCCCSRAZUfuw"
      },
      "source": [
        "### Problem: produce a patient report for a health dataset. \n",
        "\n",
        "#### Part 1\n",
        "\n",
        "* define a function called `health_advice()` which takes a `bp` and `hr` as input\n",
        "    * then offers advice\n",
        "* replace the body of the loop with your new function\n",
        "\n",
        "\n",
        "#### Part 2\n",
        "\n",
        "* modify the following defintion to also accept a blood sugar\n",
        "    * HINT: `+ bsgr` (or whatever you wish)\n",
        "    \n",
        "```python\n",
        "    def predict_prognosis(hr, bp):\n",
        "        return 0.1*hr + 0.1*bp + 5\n",
        "```\n",
        "\n",
        "* add a blood sugar entry to each row in the dataset\n",
        "    * HINT: add it at the end of every row\n",
        "* add a looping variable\n",
        "    * HINT: add it after `, pbp`\n",
        "* add `predict_prognosis()` to the loop body\n",
        "    * you can either add it to `health_advice()` or to the loop\n",
        "    * try both\n"
      ]
    }
  ],
  "metadata": {
    "kernelspec": {
      "display_name": "Python 3 (ipykernel)",
      "language": "python",
      "name": "python3"
    },
    "language_info": {
      "codemirror_mode": {
        "name": "ipython",
        "version": 3
      },
      "file_extension": ".py",
      "mimetype": "text/x-python",
      "name": "python",
      "nbconvert_exporter": "python",
      "pygments_lexer": "ipython3",
      "version": "3.9.7"
    },
    "colab": {
      "name": "15_IntroPyFunctions.ipynb",
      "provenance": [],
      "include_colab_link": true
    }
  },
  "nbformat": 4,
  "nbformat_minor": 0
}